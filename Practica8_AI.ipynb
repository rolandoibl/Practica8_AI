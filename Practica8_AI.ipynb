{
  "nbformat": 4,
  "nbformat_minor": 0,
  "metadata": {
    "colab": {
      "name": "Practica8_AI.ipynb",
      "provenance": []
    },
    "kernelspec": {
      "name": "python3",
      "display_name": "Python 3"
    }
  },
  "cells": [
    {
      "cell_type": "code",
      "metadata": {
        "id": "n-A_NYOhz1RA",
        "colab_type": "code",
        "colab": {}
      },
      "source": [
        "from sklearn import linear_model\n",
        "import numpy as np\n",
        "from sklearn import datasets,linear_model\n",
        "import matplotlib.pyplot as plt\n",
        "import pandas as pd"
      ],
      "execution_count": 0,
      "outputs": []
    },
    {
      "cell_type": "code",
      "metadata": {
        "id": "vpuItNHuQBY5",
        "colab_type": "code",
        "colab": {}
      },
      "source": [
        "x = [1,10,15,20,25,30,35,40,50,55,60,65,70,75,80,85,90]\n",
        "y = [10.12,7.2,5.85,4.8,4.06,3.32,2.65,2.21,1.80,1.3,1.06,0.85,0.73,0.63,0.58,0.4,0.38]"
      ],
      "execution_count": 0,
      "outputs": []
    },
    {
      "cell_type": "code",
      "metadata": {
        "id": "8cagm4utQm4k",
        "colab_type": "code",
        "outputId": "77314b70-b934-4b70-d3a0-6205cdd6cf93",
        "colab": {
          "base_uri": "https://localhost:8080/",
          "height": 282
        }
      },
      "source": [
        "plt.scatter(x,y)"
      ],
      "execution_count": 0,
      "outputs": [
        {
          "output_type": "execute_result",
          "data": {
            "text/plain": [
              "<matplotlib.collections.PathCollection at 0x7f3c82cf42b0>"
            ]
          },
          "metadata": {
            "tags": []
          },
          "execution_count": 3
        },
        {
          "output_type": "display_data",
          "data": {
            "image/png": "[encoded data removed]",
            "text/plain": [
              "<Figure size 432x288 with 1 Axes>"
            ]
          },
          "metadata": {
            "tags": [],
            "needs_background": "light"
          }
        }
      ]
    },
    {
      "cell_type": "code",
      "metadata": {
        "id": "BtNncgXARYHT",
        "colab_type": "code",
        "outputId": "2e562deb-4509-408a-e144-594ed951fa09",
        "colab": {
          "base_uri": "https://localhost:8080/",
          "height": 319
        }
      },
      "source": [
        "db = pd.DataFrame({\"Porcentaje\":x,\"Tiempo\":y})\n",
        "print(db)"
      ],
      "execution_count": 0,
      "outputs": [
        {
          "output_type": "stream",
          "text": [
            "    Porcentaje  Tiempo\n",
            "0            1   10.12\n",
            "1           10    7.20\n",
            "2           15    5.85\n",
            "3           20    4.80\n",
            "4           25    4.06\n",
            "5           30    3.32\n",
            "6           35    2.65\n",
            "7           40    2.21\n",
            "8           50    1.80\n",
            "9           55    1.30\n",
            "10          60    1.06\n",
            "11          65    0.85\n",
            "12          70    0.73\n",
            "13          75    0.63\n",
            "14          80    0.58\n",
            "15          85    0.40\n",
            "16          90    0.38\n"
          ],
          "name": "stdout"
        }
      ]
    },
    {
      "cell_type": "code",
      "metadata": {
        "id": "Z4wI2hn4TZfI",
        "colab_type": "code",
        "colab": {}
      },
      "source": [
        "x_t = db['Porcentaje'].values.reshape(-1, 1)\n",
        "y_t = db['Tiempo'].values.reshape(-1, 1)"
      ],
      "execution_count": 0,
      "outputs": []
    },
    {
      "cell_type": "code",
      "metadata": {
        "id": "Pw3Isg2wTlVt",
        "colab_type": "code",
        "outputId": "56accd9f-8c8e-454c-cb2f-482ace06f36e",
        "colab": {
          "base_uri": "https://localhost:8080/",
          "height": 265
        }
      },
      "source": [
        "from sklearn.linear_model import LinearRegression\n",
        " \n",
        "model = LinearRegression()\n",
        "model.fit(x_t, y_t)\n",
        "y_pred = model.predict(x_t)\n",
        " \n",
        "plt.scatter(x_t, y_t)\n",
        "plt.plot(x_t, y_pred, color='r')\n",
        "plt.show()"
      ],
      "execution_count": 0,
      "outputs": [
        {
          "output_type": "display_data",
          "data": {
            "image/png": "[encoded data removed]",
            "text/plain": [
              "<Figure size 432x288 with 1 Axes>"
            ]
          },
          "metadata": {
            "tags": [],
            "needs_background": "light"
          }
        }
      ]
    },
    {
      "cell_type": "code",
      "metadata": {
        "id": "1Xe3Be3uT2Vv",
        "colab_type": "code",
        "outputId": "098ec966-eafe-48c1-8cb9-d6d7520e166d",
        "colab": {
          "base_uri": "https://localhost:8080/",
          "height": 50
        }
      },
      "source": [
        "from sklearn.metrics import mean_squared_error, r2_score\n",
        " \n",
        "rmse = np.sqrt(mean_squared_error(y_t,y_pred))\n",
        "r2 = r2_score(y_t,y_pred)\n",
        "print ('RMSE: ' + str(rmse))\n",
        "print ('R2: ' + str(r2))"
      ],
      "execution_count": 0,
      "outputs": [
        {
          "output_type": "stream",
          "text": [
            "RMSE: 1.1206792411444675\n",
            "R2: 0.8279356528161542\n"
          ],
          "name": "stdout"
        }
      ]
    },
    {
      "cell_type": "code",
      "metadata": {
        "id": "3Qi8U_QAUHB0",
        "colab_type": "code",
        "colab": {}
      },
      "source": [
        "from sklearn.preprocessing import PolynomialFeatures\n",
        " \n",
        "poly = PolynomialFeatures(degree=3, include_bias=False)\n",
        "x_poly = poly.fit_transform(x_t)\n",
        "#print(x_t)\n",
        "#print(x_poly)"
      ],
      "execution_count": 0,
      "outputs": []
    },
    {
      "cell_type": "code",
      "metadata": {
        "id": "vzhN7TzyUVui",
        "colab_type": "code",
        "outputId": "a70aab74-46ab-4828-980a-cdcf7f30308f",
        "colab": {
          "base_uri": "https://localhost:8080/",
          "height": 384
        }
      },
      "source": [
        "model.fit(x_poly, y_t)\n",
        "y_pred = model.predict(x_poly)\n",
        "\n",
        "plt.figure(figsize=(10,5))\n",
        "plt.title(\"Tiempo vs Porcentaje\")\n",
        "plt.ylabel(\"Tiempo [s]\")\n",
        "plt.xlabel(\"Porcentaje %\")  \n",
        "plt.scatter(x, y)\n",
        "plt.plot(x, y_pred, color='r')\n",
        "plt.show()\n",
        " \n",
        "rmse = np.sqrt(mean_squared_error(y,y_pred))\n",
        "r2 = r2_score(y,y_pred)\n",
        "print ('RMSE: ' + str(rmse))\n",
        "print ('R2: ' + str(r2))"
      ],
      "execution_count": 0,
      "outputs": [
        {
          "output_type": "display_data",
          "data": {
            "image/png": "[encoded data removed]",
            "text/plain": [
              "<Figure size 720x360 with 1 Axes>"
            ]
          },
          "metadata": {
            "tags": [],
            "needs_background": "light"
          }
        },
        {
          "output_type": "stream",
          "text": [
            "RMSE: 0.10736542879026544\n",
            "R2: 0.9984207271758934\n"
          ],
          "name": "stdout"
        }
      ]
    },
    {
      "cell_type": "code",
      "metadata": {
        "id": "Bt2a6pLtUpXj",
        "colab_type": "code",
        "outputId": "39c276c2-d7ee-47c3-a57b-08edf4ba6d5d",
        "colab": {
          "base_uri": "https://localhost:8080/",
          "height": 67
        }
      },
      "source": [
        "print(model.coef_)\n",
        "print(model.intercept_)\n",
        "a = np.array(model.coef_[0])\n",
        "print(a)"
      ],
      "execution_count": 0,
      "outputs": [
        {
          "output_type": "stream",
          "text": [
            "[[-3.55760512e-01  4.65467925e-03 -2.16497428e-05]]\n",
            "[10.35055565]\n",
            "[-3.55760512e-01  4.65467925e-03 -2.16497428e-05]\n"
          ],
          "name": "stdout"
        }
      ]
    },
    {
      "cell_type": "code",
      "metadata": {
        "id": "7elbqZ7Sbly6",
        "colab_type": "code",
        "outputId": "a640005c-3969-4f29-cb29-6c92da30e8ab",
        "colab": {
          "base_uri": "https://localhost:8080/",
          "height": 34
        }
      },
      "source": [
        "valor2s = a[0]*2 + a[1]*2*2 + a[2]*2*2*2 + model.intercept_\n",
        "print(valor2s)"
      ],
      "execution_count": 0,
      "outputs": [
        {
          "output_type": "stream",
          "text": [
            "[9.65748014]\n"
          ],
          "name": "stdout"
        }
      ]
    },
    {
      "cell_type": "code",
      "metadata": {
        "id": "WGTRe5tJdOMJ",
        "colab_type": "code",
        "colab": {}
      },
      "source": [
        "x_final = db[\"Tiempo\"].values.reshape(-1,1)\n",
        "y_final = db['Porcentaje'].values.reshape(-1,1)"
      ],
      "execution_count": 0,
      "outputs": []
    },
    {
      "cell_type": "code",
      "metadata": {
        "id": "35K9sTuYe0rp",
        "colab_type": "code",
        "colab": {}
      },
      "source": [
        "poly = PolynomialFeatures(degree=4, include_bias=False)\n",
        "x_poly = poly.fit_transform(x_final)"
      ],
      "execution_count": 0,
      "outputs": []
    },
    {
      "cell_type": "code",
      "metadata": {
        "id": "UUnQBHytfPH4",
        "colab_type": "code",
        "outputId": "9d0ba070-d9d9-4799-dfa1-996b37043679",
        "colab": {
          "base_uri": "https://localhost:8080/",
          "height": 384
        }
      },
      "source": [
        "model.fit(x_poly, y_final)\n",
        "y_pred = model.predict(x_poly)\n",
        "\n",
        "plt.figure(figsize=(10,5))\n",
        "plt.title(\"Porcentaje vs Tiempo\")\n",
        "plt.ylabel(\"Porcentaje %\")\n",
        "plt.xlabel(\"Tiempo [s]\") \n",
        "plt.scatter(y, x,color='g')\n",
        "plt.plot(x_final, y_pred, color='b')\n",
        "plt.show()\n",
        " \n",
        "rmse = np.sqrt(mean_squared_error(x,y_pred))\n",
        "r2 = r2_score(x,y_pred)\n",
        "print ('RMSE: ' + str(rmse))\n",
        "print ('R2: ' + str(r2))"
      ],
      "execution_count": 0,
      "outputs": [
        {
          "output_type": "display_data",
          "data": {
            "image/png": "[encoded data removed]",
            "text/plain": [
              "<Figure size 720x360 with 1 Axes>"
            ]
          },
          "metadata": {
            "tags": [],
            "needs_background": "light"
          }
        },
        {
          "output_type": "stream",
          "text": [
            "RMSE: 2.168515597209867\n",
            "R2: 0.9935852139672515\n"
          ],
          "name": "stdout"
        }
      ]
    },
    {
      "cell_type": "code",
      "metadata": {
        "id": "7SfK9tLlgD8g",
        "colab_type": "code",
        "outputId": "86a6e93a-8084-4936-bfaa-7ce3f663ac74",
        "colab": {
          "base_uri": "https://localhost:8080/",
          "height": 67
        }
      },
      "source": [
        "print(model.coef_)\n",
        "print(model.intercept_)\n",
        "a = np.array(model.coef_[0])\n",
        "print(a)"
      ],
      "execution_count": 0,
      "outputs": [
        {
          "output_type": "stream",
          "text": [
            "[[-49.47405789  12.35567721  -1.45425037   0.06110674]]\n",
            "[102.74293336]\n",
            "[-49.47405789  12.35567721  -1.45425037   0.06110674]\n"
          ],
          "name": "stdout"
        }
      ]
    },
    {
      "cell_type": "code",
      "metadata": {
        "id": "OMkWVJO0gRpp",
        "colab_type": "code",
        "outputId": "e4b7f714-73b1-4469-8786-cf47b710ff37",
        "colab": {
          "base_uri": "https://localhost:8080/",
          "height": 50
        }
      },
      "source": [
        "vals = float(input(\"Ingresa los segundos: \"))\n",
        "valor2s = a[0]*vals + a[1]*vals**2 + a[2]*vals**3 + a[3]*vals**4 + model.intercept_\n",
        "print(valor2s)"
      ],
      "execution_count": 0,
      "outputs": [
        {
          "output_type": "stream",
          "text": [
            "Ingresa los segundos: 4\n",
            "[25.1088387]\n"
          ],
          "name": "stdout"
        }
      ]
    }
  ]
}